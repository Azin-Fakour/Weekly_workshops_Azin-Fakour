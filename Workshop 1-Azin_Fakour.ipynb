{
 "cells": [
  {
   "cell_type": "code",
   "execution_count": 1,
   "id": "7d56e034",
   "metadata": {},
   "outputs": [],
   "source": [
    "title = 'Jabberwocky'\n",
    "author = \"Lewis Carrol\"\n",
    "text = \"\"\"'Twas brillig, and the slithy toves\n",
    "      Did gyre and gimble in the wabe:\n",
    "All mimsy were the borogoves,\n",
    "      And the mome raths outgrabe.\n",
    "\n",
    "\"Beware the Jabberwock, my son!\n",
    "      The jaws that bite, the claws that catch!\n",
    "Beware the Jubjub bird, and shun\n",
    "      The frumious Bandersnatch!\"\n",
    "\n",
    "He took his vorpal sword in hand;\n",
    "      Long time the manxome foe he sought—\n",
    "So rested he by the Tumtum tree\n",
    "      And stood awhile in thought.\"\"\"\n",
    "\n",
    "# text from https://www.poetryfoundation.org/poems/42916/jabberwocky"
   ]
  },
  {
   "cell_type": "code",
   "execution_count": 2,
   "id": "f2fed5ff",
   "metadata": {},
   "outputs": [
    {
     "name": "stdout",
     "output_type": "stream",
     "text": [
      "11\n",
      "12\n",
      "432\n"
     ]
    }
   ],
   "source": [
    "print(len(title))\n",
    "print(len(author))\n",
    "print(len(text))"
   ]
  },
  {
   "cell_type": "code",
   "execution_count": 3,
   "id": "6ee203f3",
   "metadata": {},
   "outputs": [
    {
     "name": "stdout",
     "output_type": "stream",
     "text": [
      "Jabberwocky:Lewis Carrol:'Twas brillig, and t\n"
     ]
    }
   ],
   "source": [
    "first_20_chars = text[:20]\n",
    "summary = f\"{title}:{author}:{first_20_chars}\"\n",
    "print(summary)"
   ]
  },
  {
   "cell_type": "code",
   "execution_count": 4,
   "id": "0ced148b",
   "metadata": {},
   "outputs": [
    {
     "name": "stdout",
     "output_type": "stream",
     "text": [
      "Number of words in the text: 71\n"
     ]
    }
   ],
   "source": [
    "split_txt = text.split()\n",
    "word_count = len(split_txt)\n",
    "print(f\"Number of words in the text: {word_count}\")"
   ]
  },
  {
   "cell_type": "code",
   "execution_count": 5,
   "id": "5fa76147",
   "metadata": {},
   "outputs": [
    {
     "name": "stdout",
     "output_type": "stream",
     "text": [
      "Number of line in the text: 14\n"
     ]
    }
   ],
   "source": [
    "split_line=text.split('\\n')\n",
    "line_count = len(split_line)\n",
    "print(f\"Number of line in the text: {line_count}\")"
   ]
  },
  {
   "cell_type": "code",
   "execution_count": 4,
   "id": "91912d20",
   "metadata": {},
   "outputs": [
    {
     "data": {
      "text/plain": [
       "[0, 1, 2, 3, 4, 5, 6, 7, 8, 9, 10, 11, 12, 13, 14, 15, 16, 17, 18, 19]"
      ]
     },
     "execution_count": 4,
     "metadata": {},
     "output_type": "execute_result"
    }
   ],
   "source": [
    "nums = list(range(20))\n",
    "nums"
   ]
  },
  {
   "cell_type": "code",
   "execution_count": 7,
   "id": "4590f09a",
   "metadata": {},
   "outputs": [
    {
     "name": "stdout",
     "output_type": "stream",
     "text": [
      "Smallest number: 0\n",
      "Largest number: 19\n",
      "Sum of all numbers: 190\n"
     ]
    }
   ],
   "source": [
    "nums = list(range(20))\n",
    "min_num = min(nums)\n",
    "max_num = max(nums)\n",
    "total = sum(nums)\n",
    "\n",
    "print(f\"Smallest number: {min_num}\")\n",
    "print(f\"Largest number: {max_num}\")\n",
    "print(f\"Sum of all numbers: {total}\")"
   ]
  },
  {
   "cell_type": "code",
   "execution_count": 11,
   "id": "41c6d024",
   "metadata": {},
   "outputs": [
    {
     "data": {
      "text/plain": [
       "4"
      ]
     },
     "execution_count": 11,
     "metadata": {},
     "output_type": "execute_result"
    }
   ],
   "source": [
    "fifth_num= nums[4]\n",
    "fifth_num"
   ]
  },
  {
   "cell_type": "code",
   "execution_count": 14,
   "id": "0b25805b",
   "metadata": {},
   "outputs": [
    {
     "data": {
      "text/plain": [
       "[2, 3, 4, 5, 6, 7]"
      ]
     },
     "execution_count": 14,
     "metadata": {},
     "output_type": "execute_result"
    }
   ],
   "source": [
    "third_to_nine=nums[2:8]\n",
    "third_to_nine "
   ]
  },
  {
   "cell_type": "code",
   "execution_count": 20,
   "id": "3c81eeeb",
   "metadata": {},
   "outputs": [
    {
     "data": {
      "text/plain": [
       "[13, 14, 15, 16, 17, 18, 19]"
      ]
     },
     "execution_count": 20,
     "metadata": {},
     "output_type": "execute_result"
    }
   ],
   "source": [
    "after_twelve= nums[13:20]\n",
    "after_twelve"
   ]
  },
  {
   "cell_type": "code",
   "execution_count": 21,
   "id": "0d4fa8f6",
   "metadata": {},
   "outputs": [
    {
     "name": "stdout",
     "output_type": "stream",
     "text": [
      "[0, 1, 99, 3, 4, 5, 6, 7, 8, 9, 10, 11, 12, 13, 14, 15, 16, 17, 18, 19]\n"
     ]
    }
   ],
   "source": [
    "nums[2] = 99\n",
    "print(nums)"
   ]
  },
  {
   "cell_type": "code",
   "execution_count": 14,
   "id": "2c7fe505",
   "metadata": {},
   "outputs": [
    {
     "name": "stdout",
     "output_type": "stream",
     "text": [
      " Average : 55.0\n"
     ]
    }
   ],
   "source": [
    "\n",
    "numbers = [10, 20, 30, 40, 50,60,70,80,90,100]\n",
    "average = calculate_average(numbers)\n",
    "print(f\" Average : {average}\")\n"
   ]
  },
  {
   "cell_type": "code",
   "execution_count": null,
   "id": "6ef2729f",
   "metadata": {},
   "outputs": [],
   "source": []
  }
 ],
 "metadata": {
  "kernelspec": {
   "display_name": "Python 3 (ipykernel)",
   "language": "python",
   "name": "python3"
  },
  "language_info": {
   "codemirror_mode": {
    "name": "ipython",
    "version": 3
   },
   "file_extension": ".py",
   "mimetype": "text/x-python",
   "name": "python",
   "nbconvert_exporter": "python",
   "pygments_lexer": "ipython3",
   "version": "3.11.5"
  }
 },
 "nbformat": 4,
 "nbformat_minor": 5
}
